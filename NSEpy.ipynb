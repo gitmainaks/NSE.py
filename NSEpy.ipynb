{
 "cells": [
  {
   "cell_type": "code",
   "execution_count": 7,
   "id": "5ef9d735",
   "metadata": {},
   "outputs": [
    {
     "name": "stdout",
     "output_type": "stream",
     "text": [
      "Requirement already satisfied: nsepy in c:\\users\\admin\\anaconda3\\lib\\site-packages (0.8)\n",
      "Requirement already satisfied: click in c:\\users\\admin\\anaconda3\\lib\\site-packages (from nsepy) (7.1.2)\n",
      "Requirement already satisfied: requests in c:\\users\\admin\\anaconda3\\lib\\site-packages (from nsepy) (2.25.1)\n",
      "Requirement already satisfied: lxml in c:\\users\\admin\\anaconda3\\lib\\site-packages (from nsepy) (4.6.3)\n",
      "Requirement already satisfied: beautifulsoup4 in c:\\users\\admin\\anaconda3\\lib\\site-packages (from nsepy) (4.9.3)\n",
      "Requirement already satisfied: pandas in c:\\users\\admin\\anaconda3\\lib\\site-packages (from nsepy) (1.2.4)\n",
      "Requirement already satisfied: numpy in c:\\users\\admin\\anaconda3\\lib\\site-packages (from nsepy) (1.20.1)\n",
      "Requirement already satisfied: six in c:\\users\\admin\\anaconda3\\lib\\site-packages (from nsepy) (1.15.0)\n",
      "Requirement already satisfied: soupsieve>1.2 in c:\\users\\admin\\anaconda3\\lib\\site-packages (from beautifulsoup4->nsepy) (2.2.1)\n",
      "Requirement already satisfied: python-dateutil>=2.7.3 in c:\\users\\admin\\anaconda3\\lib\\site-packages (from pandas->nsepy) (2.8.1)\n",
      "Requirement already satisfied: pytz>=2017.3 in c:\\users\\admin\\anaconda3\\lib\\site-packages (from pandas->nsepy) (2021.1)\n",
      "Requirement already satisfied: certifi>=2017.4.17 in c:\\users\\admin\\anaconda3\\lib\\site-packages (from requests->nsepy) (2020.12.5)\n",
      "Requirement already satisfied: chardet<5,>=3.0.2 in c:\\users\\admin\\anaconda3\\lib\\site-packages (from requests->nsepy) (4.0.0)\n",
      "Requirement already satisfied: idna<3,>=2.5 in c:\\users\\admin\\anaconda3\\lib\\site-packages (from requests->nsepy) (2.10)\n",
      "Requirement already satisfied: urllib3<1.27,>=1.21.1 in c:\\users\\admin\\anaconda3\\lib\\site-packages (from requests->nsepy) (1.26.4)\n",
      "Note: you may need to restart the kernel to use updated packages.\n"
     ]
    }
   ],
   "source": [
    "pip install nsepy"
   ]
  },
  {
   "cell_type": "code",
   "execution_count": null,
   "id": "d2442530",
   "metadata": {},
   "outputs": [],
   "source": []
  },
  {
   "cell_type": "code",
   "execution_count": null,
   "id": "1af7245c",
   "metadata": {},
   "outputs": [],
   "source": []
  },
  {
   "cell_type": "code",
   "execution_count": 31,
   "id": "4593dde8",
   "metadata": {},
   "outputs": [],
   "source": [
    "from nsepy import get_history\n",
    "from datetime import date\n",
    "import pandas as pd"
   ]
  },
  {
   "cell_type": "code",
   "execution_count": 14,
   "id": "860092e9",
   "metadata": {},
   "outputs": [],
   "source": [
    "stock = ['IOC', 'INDUSINDBK', 'TATASTEEL', 'NTPC', 'BPCL']"
   ]
  },
  {
   "cell_type": "code",
   "execution_count": 17,
   "id": "c784347d",
   "metadata": {},
   "outputs": [
    {
     "name": "stdout",
     "output_type": "stream",
     "text": [
      "IOC\n",
      "INDUSINDBK\n",
      "TATASTEEL\n",
      "NTPC\n",
      "BPCL\n"
     ]
    }
   ],
   "source": [
    "for i in stock:\n",
    "    path = r'C:\\Users\\Admin\\Desktop\\Projects for CV\\pyNSE\\nifty 50 data' + \"\\\\\" + i + '.csv'\n",
    "    data = get_history(symbol = i, start = date(2019,1,1), end = date(2021,4,20))\n",
    "    data.to_csv(path)\n",
    "    print(i)"
   ]
  },
  {
   "cell_type": "code",
   "execution_count": 26,
   "id": "a7f29bc8",
   "metadata": {},
   "outputs": [
    {
     "name": "stdout",
     "output_type": "stream",
     "text": [
      "IOC\n",
      "INDUSINDBK\n",
      "TATASTEEL\n",
      "NTPC\n",
      "BPCL\n"
     ]
    }
   ],
   "source": [
    "main_df = None\n",
    "for j in stock:\n",
    "    print(j)\n",
    "    path = \"C:\\\\Users\\\\Admin\\\\Desktop\\\\Projects for CV\\\\pyNSE\\\\nifty 50 data\\\\\" + j + '.csv'\n",
    "    df = pd.read_csv(path)\n",
    "    df = df[['Date', 'Close']]\n",
    "    df = df.set_index('Date')\n",
    "    df = df.rename(columns = {\"Close\":j})\n",
    "    main_df = pd.concat([main_df, df], axis = 1)"
   ]
  },
  {
   "cell_type": "code",
   "execution_count": 27,
   "id": "e86cc2f4",
   "metadata": {},
   "outputs": [],
   "source": [
    "correlation = main_df.corr(method = 'pearson')\n",
    "correlation.to_csv('C:/Users/Admin/Desktop/Projects for CV/pyNSE/nifty 50 data/Correlation.csv')\n",
    "main_df.to_csv('C:/Users/Admin/Desktop/Projects for CV/pyNSE/nifty 50 data/Combined.csv')"
   ]
  },
  {
   "cell_type": "code",
   "execution_count": 30,
   "id": "fd5cdf97",
   "metadata": {},
   "outputs": [
    {
     "data": {
      "text/plain": [
       "<AxesSubplot:>"
      ]
     },
     "execution_count": 30,
     "metadata": {},
     "output_type": "execute_result"
    },
    {
     "data": {
      "image/png": "[encoded data removed]",
      "text/plain": [
       "<Figure size 720x720 with 2 Axes>"
      ]
     },
     "metadata": {
      "needs_background": "light"
     },
     "output_type": "display_data"
    }
   ],
   "source": [
    "import seaborn as sns\n",
    "import matplotlib.pyplot as plt\n",
    "\n",
    "fig, ax = plt.subplots(figsize =(10,10))\n",
    "sns.heatmap(correlation, annot = True, linewidths =.5, ax=ax)"
   ]
  },
  {
   "cell_type": "code",
   "execution_count": null,
   "id": "1c404801",
   "metadata": {},
   "outputs": [],
   "source": []
  }
 ],
 "metadata": {
  "kernelspec": {
   "display_name": "Python 3",
   "language": "python",
   "name": "python3"
  },
  "language_info": {
   "codemirror_mode": {
    "name": "ipython",
    "version": 3
   },
   "file_extension": ".py",
   "mimetype": "text/x-python",
   "name": "python",
   "nbconvert_exporter": "python",
   "pygments_lexer": "ipython3",
   "version": "3.8.8"
  }
 },
 "nbformat": 4,
 "nbformat_minor": 5
}
